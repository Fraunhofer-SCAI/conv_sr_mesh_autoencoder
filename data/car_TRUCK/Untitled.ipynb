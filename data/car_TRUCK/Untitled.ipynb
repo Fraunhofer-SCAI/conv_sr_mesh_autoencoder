{
 "cells": [
  {
   "cell_type": "code",
   "execution_count": 1,
   "id": "related-malpractice",
   "metadata": {},
   "outputs": [],
   "source": [
    "import numpy as np"
   ]
  },
  {
   "cell_type": "code",
   "execution_count": 13,
   "id": "muslim-convert",
   "metadata": {},
   "outputs": [],
   "source": [
    "test_number_tt = 9\n",
    "test_tt = list(np.random.choice(35, test_number_tt, replace=False) ) #fix the timesteps for car_TRUCK\n",
    "\n",
    "test_tt = [ 8, 17,  9,  7, 24,  2, 11, 25, 20] #np.random.choice(len(meshfiles), test_number_tt, replace=False) #fix the timesteps for car_TRUCK"
   ]
  },
  {
   "cell_type": "code",
   "execution_count": 14,
   "id": "danish-virus",
   "metadata": {},
   "outputs": [
    {
     "data": {
      "text/plain": [
       "[8, 17, 9, 7, 24, 2, 11, 25, 20]"
      ]
     },
     "execution_count": 14,
     "metadata": {},
     "output_type": "execute_result"
    }
   ],
   "source": [
    "test_tt"
   ]
  },
  {
   "cell_type": "code",
   "execution_count": 15,
   "id": "decreased-depression",
   "metadata": {},
   "outputs": [],
   "source": [
    "with open(\"random_test_timesteps.txt\", 'w') as f:\n",
    "    for s in test_tt:\n",
    "        f.write(str(s) + '\\n')\n",
    "\n",
    "with open(\"random_test_timesteps.txt\", 'r') as f:\n",
    "    test_tt = [int(line.rstrip('\\n')) for line in f]"
   ]
  },
  {
   "cell_type": "code",
   "execution_count": 16,
   "id": "olive-significance",
   "metadata": {},
   "outputs": [
    {
     "data": {
      "text/plain": [
       "[8, 17, 9, 7, 24, 2, 11, 25, 20]"
      ]
     },
     "execution_count": 16,
     "metadata": {},
     "output_type": "execute_result"
    }
   ],
   "source": [
    "test_tt"
   ]
  },
  {
   "cell_type": "code",
   "execution_count": null,
   "id": "identical-daughter",
   "metadata": {},
   "outputs": [],
   "source": []
  }
 ],
 "metadata": {
  "kernelspec": {
   "display_name": "Python 3",
   "language": "python",
   "name": "python3"
  },
  "language_info": {
   "codemirror_mode": {
    "name": "ipython",
    "version": 3
   },
   "file_extension": ".py",
   "mimetype": "text/x-python",
   "name": "python",
   "nbconvert_exporter": "python",
   "pygments_lexer": "ipython3",
   "version": "3.7.9"
  }
 },
 "nbformat": 4,
 "nbformat_minor": 5
}
